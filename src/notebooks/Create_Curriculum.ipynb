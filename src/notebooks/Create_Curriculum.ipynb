{
 "cells": [
  {
   "cell_type": "code",
   "execution_count": 1,
   "id": "6265efbc",
   "metadata": {},
   "outputs": [],
   "source": [
    "import binpack\n",
    "import binpack.bachelorarbeit\n",
    "from binpack.item import Item\n",
    "from binpack.bin3d import Bin\n",
    "from binpack.bachelorarbeit import Instance_of_3D_BPP\n",
    "import pickle\n",
    "import numpy as np\n",
    "%load_ext autoreload\n",
    "%autoreload 2"
   ]
  },
  {
   "cell_type": "code",
   "execution_count": null,
   "id": "73405f3f",
   "metadata": {},
   "outputs": [
    {
     "name": "stdout",
     "output_type": "stream",
     "text": [
      "2000 final states were created\n",
      "In the best case 4 Bins were used\n",
      "In the worst case 5 Bins were use\n",
      "The estimated difficulty is: 0.9914000000000001\n",
      "Maximum alpha value: 0.5166015625\n",
      "Minimum alpha value: 0.41328125\n",
      "1\n",
      "2000 final states were created\n",
      "In the best case 2 Bins were used\n",
      "In the worst case 3 Bins were use\n",
      "The estimated difficulty is: 0.9750000000000001\n",
      "Maximum alpha value: 0.4501953125\n",
      "Minimum alpha value: 0.3001302083333333\n",
      "2\n",
      "2000 final states were created\n",
      "In the best case 1 Bins were used\n",
      "In the worst case 1 Bins were use\n",
      "The estimated difficulty is: 1.0\n",
      "Maximum alpha value: 0.5\n",
      "Minimum alpha value: 0.5\n",
      "3\n",
      "2000 final states were created\n",
      "In the best case 6 Bins were used\n",
      "In the worst case 8 Bins were use\n",
      "The estimated difficulty is: 0.8957499999999999\n",
      "Maximum alpha value: 0.498046875\n",
      "Minimum alpha value: 0.37353515625\n",
      "4\n"
     ]
    }
   ],
   "source": [
    "Data=[]\n",
    "difficulties_covered=[]\n",
    "\n",
    "rng = np.random.default_rng(np.random.randint(1000))\n",
    "while(len(Data)<1000):\n",
    "    number_of_targetitems=rng.integers(1,26)\n",
    "    instance= binpack.bachelorarbeit.generate_random_Instance_of_3D_BPP([8,8,8],number_of_targetitems)\n",
    "    difficulty, maximum_alpha_value=instance.estimate_difficulty(2000)\n",
    "    difficulty=int(difficulty*2000)\n",
    "    if difficulty not in difficulties_covered:\n",
    "        difficulties_covered.append(difficulty)\n",
    "        Data.append([instance,maximum_alpha_value])\n",
    "    print(len(Data))"
   ]
  },
  {
   "cell_type": "code",
   "execution_count": null,
   "id": "577e7670",
   "metadata": {},
   "outputs": [],
   "source": [
    "sorted_Data = sorted(Data, key=lambda x: x[0].difficulty_estimated)"
   ]
  },
  {
   "cell_type": "code",
   "execution_count": null,
   "id": "402f81e1",
   "metadata": {},
   "outputs": [],
   "source": [
    "curriculum=[]\n",
    "maximum_alpha_values=[]\n",
    "for i in sorted_Data:\n",
    "    curriculum.append(i[0])\n",
    "    maximum_alpha_values.append(i[1])"
   ]
  },
  {
   "cell_type": "code",
   "execution_count": null,
   "id": "ad4a3716",
   "metadata": {},
   "outputs": [],
   "source": [
    "#with open('pickle_files/curriculum.pickle', 'wb') as handle:\n",
    "   #pickle.dump(curriculum, handle, protocol=pickle.HIGHEST_PROTOCOL)\n",
    "    \n",
    "#with open('pickle_files/maximum_alpha_values.pickle', 'wb') as handle:\n",
    "    #pickle.dump(maximum_alpha_values, handle, protocol=pickle.HIGHEST_PROTOCOL)"
   ]
  }
 ],
 "metadata": {
  "kernelspec": {
   "display_name": "Python 3",
   "language": "python",
   "name": "python3"
  },
  "language_info": {
   "codemirror_mode": {
    "name": "ipython",
    "version": 3
   },
   "file_extension": ".py",
   "mimetype": "text/x-python",
   "name": "python",
   "nbconvert_exporter": "python",
   "pygments_lexer": "ipython3",
   "version": "3.8.8"
  }
 },
 "nbformat": 4,
 "nbformat_minor": 5
}
