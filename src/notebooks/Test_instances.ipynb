{
 "cells": [
  {
   "cell_type": "code",
   "execution_count": 1,
   "id": "e5a3351b",
   "metadata": {},
   "outputs": [],
   "source": [
    "import binpack\n",
    "import binpack.bachelorarbeit\n",
    "from binpack.item import Item\n",
    "from binpack.bin3d import Bin\n",
    "from binpack.bachelorarbeit import Instance_of_3D_BPP\n",
    "import pickle\n",
    "%load_ext autoreload\n",
    "%autoreload 2"
   ]
  },
  {
   "cell_type": "code",
   "execution_count": 2,
   "id": "16b2074a",
   "metadata": {
    "scrolled": true
   },
   "outputs": [],
   "source": [
    "with open('/pickle_files/Test_instances.pickle','rb') as a:\n",
    "    Test_instances = pickle.load(a)"
   ]
  },
  {
   "cell_type": "code",
   "execution_count": 3,
   "id": "92785471",
   "metadata": {},
   "outputs": [
    {
     "name": "stdout",
     "output_type": "stream",
     "text": [
      "2000 final states were created\n",
      "In the best case 2 Bins were used\n",
      "In the worst case 4 Bins were use\n",
      "The estimated difficulty is: 0.736\n",
      "Maximum alpha value: 0.734375\n",
      "Minimum alpha value: 0.3671875\n",
      "\n",
      "10881024 final states were created\n",
      "In the best case 2 Bins were used\n",
      "In the worst case 4 Bins were use\n",
      "The exact difficulty is: 0.7359985693319018\n",
      "Maximum alpha value: 0.734375\n",
      "Minimum alpha value: 0.3671875\n",
      "\n",
      "2000 final states were created\n",
      "In the best case 2 Bins were used\n",
      "In the worst case 3 Bins were use\n",
      "The estimated difficulty is: 0.8818333333333332\n",
      "Maximum alpha value: 0.6875\n",
      "Minimum alpha value: 0.4583333333333333\n",
      "\n",
      "27421440 final states were created\n",
      "In the best case 2 Bins were used\n",
      "In the worst case 3 Bins were use\n",
      "The exact difficulty is: 0.8888888888888907\n",
      "Maximum alpha value: 0.6875\n",
      "Minimum alpha value: 0.4583333333333333\n",
      "\n",
      "2000 final states were created\n",
      "In the best case 1 Bins were used\n",
      "In the worst case 3 Bins were use\n",
      "The estimated difficulty is: 0.5644166666666667\n",
      "Maximum alpha value: 0.925\n",
      "Minimum alpha value: 0.30833333333333335\n",
      "\n",
      "18016 final states were created\n",
      "In the best case 1 Bins were used\n",
      "In the worst case 3 Bins were use\n",
      "The exact difficulty is: 0.5613621760548296\n",
      "Maximum alpha value: 0.925\n",
      "Minimum alpha value: 0.30833333333333335\n",
      "\n",
      "2000 final states were created\n",
      "In the best case 1 Bins were used\n",
      "In the worst case 2 Bins were use\n",
      "The estimated difficulty is: 0.892\n",
      "Maximum alpha value: 0.4166666666666667\n",
      "Minimum alpha value: 0.20833333333333331\n",
      "\n",
      "52 final states were created\n",
      "In the best case 1 Bins were used\n",
      "In the worst case 2 Bins were use\n",
      "The exact difficulty is: 0.8888888888888885\n",
      "Maximum alpha value: 0.4166666666666667\n",
      "Minimum alpha value: 0.20833333333333331\n",
      "\n"
     ]
    }
   ],
   "source": [
    "for instance in Test_instances:\n",
    "    instance.estimate_difficulty(2000)\n",
    "    print(\"\")\n",
    "    instance.calculate_difficulty_exact()\n",
    "    print(\"\")"
   ]
  }
 ],
 "metadata": {
  "kernelspec": {
   "display_name": "Python 3",
   "language": "python",
   "name": "python3"
  },
  "language_info": {
   "codemirror_mode": {
    "name": "ipython",
    "version": 3
   },
   "file_extension": ".py",
   "mimetype": "text/x-python",
   "name": "python",
   "nbconvert_exporter": "python",
   "pygments_lexer": "ipython3",
   "version": "3.8.8"
  }
 },
 "nbformat": 4,
 "nbformat_minor": 5
}
